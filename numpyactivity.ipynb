{
  "cells": [
    {
      "cell_type": "markdown",
      "metadata": {
        "id": "A4GF3lV6jm5x"
      },
      "source": [
        "# **Aguado, Emmanuel D.**\n",
        "# **Du, Ellyanna Nicole L.**\n",
        "# **Activity 1: NumPy Exercise**\n",
        "\n",
        "**Objective:**\n",
        "\n",
        "Practice NumPy's array manipulation, indexing, and mathematical functions by solving problems related to basic data analysis and matrix operations."
      ]
    },
    {
      "cell_type": "markdown",
      "metadata": {
        "id": "Pq3P9XLbjVU4"
      },
      "source": [
        "## **Part 1**"
      ]
    },
    {
      "cell_type": "markdown",
      "metadata": {
        "id": "VkOXGCuiLGR9"
      },
      "source": [
        "#### 1. Import the numpy package under the name `np`\n"
      ]
    },
    {
      "cell_type": "code",
      "execution_count": 1,
      "metadata": {
        "id": "DhbEnfx8O314"
      },
      "outputs": [],
      "source": [
        "import numpy as np"
      ]
    },
    {
      "cell_type": "markdown",
      "metadata": {
        "id": "ktNjFh4pO-5C"
      },
      "source": [
        "#### 2. Print the numpy version"
      ]
    },
    {
      "cell_type": "code",
      "execution_count": 2,
      "metadata": {
        "id": "7tZfwQhhPQoI"
      },
      "outputs": [
        {
          "name": "stdout",
          "output_type": "stream",
          "text": [
            "2.2.2\n"
          ]
        }
      ],
      "source": [
        "print(np.__version__)"
      ]
    },
    {
      "cell_type": "markdown",
      "metadata": {
        "id": "D4V99t3oQRAB"
      },
      "source": [
        "#### 3. Create a null array of size 5"
      ]
    },
    {
      "cell_type": "code",
      "execution_count": 2,
      "metadata": {
        "id": "XnL-QmA_QYa2"
      },
      "outputs": [
        {
          "name": "stdout",
          "output_type": "stream",
          "text": [
            "[1 2 3 4 5]\n"
          ]
        }
      ],
      "source": [
        "import numpy as np\n",
        "arr = np.array([1, 2, 3, 4, 5])\n",
        "print(arr)"
      ]
    },
    {
      "cell_type": "markdown",
      "metadata": {
        "id": "x9tAEjPlQcnh"
      },
      "source": [
        "#### 4. Create a null array of size 15 but the seventh value which is 1"
      ]
    },
    {
      "cell_type": "code",
      "execution_count": 3,
      "metadata": {
        "id": "VgwfRV6OQlGk"
      },
      "outputs": [
        {
          "name": "stdout",
          "output_type": "stream",
          "text": [
            "[ 1  2  3  4  5  6  1  8  9 10 11 12 13 14 15]\n"
          ]
        }
      ],
      "source": [
        "import numpy as np\n",
        "arr = np.array([1, 2, 3, 4, 5, 6, 1, 8, 9, 10, 11, 12, 13, 14, 15])\n",
        "print(arr)"
      ]
    },
    {
      "cell_type": "markdown",
      "metadata": {
        "id": "a5_Af-hYTi-X"
      },
      "source": [
        "#### 5. Create a 4x4 matrix with values ranging from 0 to 11"
      ]
    },
    {
      "cell_type": "code",
      "execution_count": 4,
      "metadata": {
        "id": "HSlLeK5YQ5Lo"
      },
      "outputs": [
        {
          "name": "stdout",
          "output_type": "stream",
          "text": [
            "[[[ 1  2  3  4]\n",
            "  [ 5  6  7  8]\n",
            "  [ 9 10 11 12]\n",
            "  [13 14 15  0]]]\n"
          ]
        }
      ],
      "source": [
        "import numpy as np\n",
        "arr = np.array([[[1, 2, 3, 4],[5, 6, 7, 8],[9, 10, 11, 12],[13, 14, 15, 0]]])\n",
        "print(arr)"
      ]
    },
    {
      "cell_type": "markdown",
      "metadata": {
        "id": "nLJvzwjfVXOL"
      },
      "source": [
        "#### 6. Find indices of non-zero elements from [1,2,4,0,4,0]"
      ]
    },
    {
      "cell_type": "code",
      "execution_count": 5,
      "metadata": {
        "id": "o8vyHuWfVbXu"
      },
      "outputs": [
        {
          "name": "stdout",
          "output_type": "stream",
          "text": [
            "(array([0, 1, 2, 4]),)\n"
          ]
        }
      ],
      "source": [
        "import numpy as np\n",
        "arr = np.array([1, 2, 4, 0, 4, 0])\n",
        "x = np.where(arr != 0)\n",
        "print(x)"
      ]
    },
    {
      "cell_type": "markdown",
      "metadata": {
        "id": "z6OrgicLV6C-"
      },
      "source": [
        "#### 7. Create a 4x4x4 array with random values"
      ]
    },
    {
      "cell_type": "code",
      "execution_count": 10,
      "metadata": {
        "collapsed": true,
        "id": "MhcNEK55V1UF"
      },
      "outputs": [
        {
          "name": "stdout",
          "output_type": "stream",
          "text": [
            "[[[0.60999183 0.76402329 0.5248151  0.21246952]\n",
            "  [0.19695124 0.70104552 0.27097364 0.96372536]\n",
            "  [0.41870344 0.02652993 0.02903638 0.29268463]\n",
            "  [0.2351759  0.84163996 0.78159971 0.02881061]]\n",
            "\n",
            " [[0.03526655 0.42923286 0.47349123 0.96652921]\n",
            "  [0.96631651 0.99030441 0.01495987 0.69569341]\n",
            "  [0.50800552 0.07411083 0.3981094  0.72098264]\n",
            "  [0.5190927  0.74164639 0.95510278 0.2510282 ]]\n",
            "\n",
            " [[0.90095998 0.87064641 0.17885082 0.32322255]\n",
            "  [0.93299149 0.30381797 0.13716892 0.52301974]\n",
            "  [0.40178376 0.60726943 0.93825954 0.68287125]\n",
            "  [0.03170561 0.55072433 0.7133423  0.40667449]]\n",
            "\n",
            " [[0.31840648 0.90390798 0.28859671 0.96668623]\n",
            "  [0.78064587 0.86359179 0.80416195 0.52868132]\n",
            "  [0.60025599 0.18610951 0.98482441 0.11308222]\n",
            "  [0.33946869 0.68213111 0.5615875  0.57808231]]]\n"
          ]
        }
      ],
      "source": [
        "import numpy as np\n",
        "from numpy import random\n",
        "\n",
        "x = random.rand(4,4,4)\n",
        "print(x)"
      ]
    },
    {
      "cell_type": "markdown",
      "metadata": {
        "id": "aLqeru_NWso3"
      },
      "source": [
        "#### 8. Create a 15x15 array with random assigned values and find the min and max values"
      ]
    },
    {
      "cell_type": "code",
      "execution_count": 108,
      "metadata": {
        "collapsed": true,
        "id": "eSpxGZ2GWqDo"
      },
      "outputs": [
        {
          "name": "stdout",
          "output_type": "stream",
          "text": [
            "[[0.14906549 0.8231083  0.81010751 0.67910017 0.12135904 0.24327319\n",
            "  0.86059403 0.68174733 0.2102296  0.48141799 0.13713624 0.45838399\n",
            "  0.63489156 0.60695304 0.65252781]\n",
            " [0.54181355 0.36090401 0.13083494 0.83803515 0.98203043 0.83301406\n",
            "  0.76233009 0.56629229 0.80399745 0.70918894 0.50537124 0.35146732\n",
            "  0.76559236 0.61878905 0.49556201]\n",
            " [0.98799398 0.06120974 0.8289465  0.28469832 0.42270826 0.19705703\n",
            "  0.83322906 0.2598324  0.69745116 0.28958691 0.29971583 0.72663091\n",
            "  0.46132464 0.54393387 0.18609391]\n",
            " [0.3022775  0.55792469 0.25676489 0.29870084 0.03353804 0.67129907\n",
            "  0.14433332 0.99133543 0.80292399 0.4872383  0.15164856 0.28148843\n",
            "  0.66178454 0.15049421 0.26681156]\n",
            " [0.85832206 0.48120917 0.41751458 0.90344401 0.25656296 0.22643146\n",
            "  0.8099836  0.60220769 0.57260527 0.93818206 0.96095582 0.51560685\n",
            "  0.94961016 0.74479958 0.24619738]\n",
            " [0.35959159 0.78134259 0.67462132 0.80400611 0.27503185 0.64221851\n",
            "  0.94953928 0.25788537 0.23896547 0.69803146 0.25418606 0.99568189\n",
            "  0.66269701 0.00542265 0.41991405]\n",
            " [0.81045171 0.66852124 0.18731008 0.26423398 0.58330815 0.49302595\n",
            "  0.1626159  0.87146741 0.734512   0.3544615  0.78910884 0.48971087\n",
            "  0.01458664 0.3385057  0.25272206]\n",
            " [0.05652799 0.12283549 0.12757807 0.16236036 0.01861645 0.88896998\n",
            "  0.54600996 0.14679281 0.91627213 0.73161704 0.49531895 0.0033155\n",
            "  0.00953901 0.79877054 0.86227003]\n",
            " [0.65336461 0.75473044 0.32870257 0.16008724 0.48199471 0.81762088\n",
            "  0.85378544 0.77175104 0.17765867 0.04008489 0.40883171 0.50939939\n",
            "  0.05994348 0.80502828 0.69407906]\n",
            " [0.72333365 0.82867266 0.25938693 0.92892241 0.30730248 0.32976485\n",
            "  0.73715656 0.81754906 0.02724423 0.78188256 0.97862199 0.01552389\n",
            "  0.89820598 0.49622984 0.20567884]\n",
            " [0.28630932 0.85445191 0.25789757 0.84642079 0.02968604 0.19999815\n",
            "  0.5529408  0.31673921 0.64131927 0.66478455 0.54241232 0.45024919\n",
            "  0.53590577 0.17180681 0.79687857]\n",
            " [0.18302861 0.69469422 0.2933038  0.21532526 0.00251381 0.13235485\n",
            "  0.12846354 0.95752395 0.63076608 0.13365061 0.15202744 0.28744651\n",
            "  0.97823996 0.51453147 0.03920946]\n",
            " [0.95970918 0.43707414 0.26442969 0.7036944  0.47293485 0.95292554\n",
            "  0.25353667 0.74070564 0.1377169  0.50155997 0.36764172 0.57756029\n",
            "  0.09600957 0.87981597 0.60941599]\n",
            " [0.44372112 0.54144857 0.1370795  0.5390719  0.84883114 0.77798962\n",
            "  0.05987657 0.46235462 0.96055322 0.9291043  0.98468673 0.88180482\n",
            "  0.64427933 0.81506424 0.77288377]\n",
            " [0.31186741 0.13556931 0.9078702  0.10345368 0.24209993 0.89963798\n",
            "  0.57654118 0.35989008 0.72385437 0.00588246 0.01069031 0.25428287\n",
            "  0.30125845 0.64667565 0.52209605]]\n",
            "0.00251381495586378\n",
            "0.9956818903700697\n"
          ]
        }
      ],
      "source": [
        "x = random.rand(15,15)\n",
        "print(x)\n",
        "min_value = np.min(x)\n",
        "max_value = np.max(x)\n",
        "print(min_value)\n",
        "print(max_value)"
      ]
    },
    {
      "cell_type": "code",
      "execution_count": 11,
      "metadata": {
        "id": "cUFXQqkHW6qB"
      },
      "outputs": [
        {
          "data": {
            "text/plain": [
              "np.float64(0.990304407652944)"
            ]
          },
          "execution_count": 11,
          "metadata": {},
          "output_type": "execute_result"
        }
      ],
      "source": [
        "x.min()\n",
        "x.max()"
      ]
    },
    {
      "cell_type": "markdown",
      "metadata": {
        "id": "jIAQPvclbEVr"
      },
      "source": [
        "#### 9. Create a random array of size 25 and find the mean value"
      ]
    },
    {
      "cell_type": "code",
      "execution_count": 13,
      "metadata": {
        "id": "q91Y8GMebPeY"
      },
      "outputs": [
        {
          "name": "stdout",
          "output_type": "stream",
          "text": [
            "[array([14, 50, 19, 72, 30, 90, 73, 65, 77, 35,  6, 39, 86, 27, 45, 35, 46,\n",
            "       62, 65, 29, 35, 34, 72, 90, 20])]\n"
          ]
        },
        {
          "data": {
            "text/plain": [
              "np.float64(48.64)"
            ]
          },
          "execution_count": 13,
          "metadata": {},
          "output_type": "execute_result"
        }
      ],
      "source": [
        "x = random.randint(100, size=(25))\n",
        "arr = ([x])\n",
        "print(arr)\n",
        "x.mean()"
      ]
    },
    {
      "cell_type": "markdown",
      "metadata": {
        "id": "1z3JFRgAkmNP"
      },
      "source": [
        "#### 10.  Show your codes\n",
        "\n",
        "Given:\n",
        "\n",
        "array 1 = ([2, 4, 9])\\\n",
        "array 2 = ([1, 14, 6])\n",
        "\n",
        "  *Note: Recreate the arrays*"
      ]
    },
    {
      "cell_type": "code",
      "execution_count": 17,
      "metadata": {
        "id": "jiC8LUdknLPN"
      },
      "outputs": [
        {
          "name": "stdout",
          "output_type": "stream",
          "text": [
            "[2 4 9] [ 1 14  6]\n"
          ]
        }
      ],
      "source": [
        "array1 = np.array([2, 4, 9])\n",
        "array2 = np.array([1, 14, 6])\n",
        "print(array1, array2)"
      ]
    },
    {
      "cell_type": "markdown",
      "metadata": {
        "id": "QFPFjpSSmecQ"
      },
      "source": [
        "10.1 What is the result of *a + b*?"
      ]
    },
    {
      "cell_type": "code",
      "execution_count": 18,
      "metadata": {
        "id": "Yqcpj3ccm5La"
      },
      "outputs": [
        {
          "name": "stdout",
          "output_type": "stream",
          "text": [
            "[ 3 18 15]\n"
          ]
        }
      ],
      "source": [
        "print(array1 + array2)"
      ]
    },
    {
      "cell_type": "markdown",
      "metadata": {
        "id": "t0__U1Bum7k6"
      },
      "source": [
        "10.2 What is the result of *a - b*?"
      ]
    },
    {
      "cell_type": "code",
      "execution_count": 19,
      "metadata": {
        "id": "SmuAcAubnCNO"
      },
      "outputs": [
        {
          "name": "stdout",
          "output_type": "stream",
          "text": [
            "[  1 -10   3]\n"
          ]
        }
      ],
      "source": [
        "print(array1 - array2)"
      ]
    },
    {
      "cell_type": "markdown",
      "metadata": {
        "id": "5dbiR_Urm5fJ"
      },
      "source": [
        "10.3 What is the result of *a × b*?"
      ]
    },
    {
      "cell_type": "code",
      "execution_count": 20,
      "metadata": {
        "id": "Zpnb_vGqksSF"
      },
      "outputs": [
        {
          "name": "stdout",
          "output_type": "stream",
          "text": [
            "[ 2 56 54]\n"
          ]
        }
      ],
      "source": [
        "print(array1 * array2)"
      ]
    },
    {
      "cell_type": "markdown",
      "metadata": {
        "id": "jHTozQuZp2WM"
      },
      "source": [
        "10.4 What is the result of *a ÷ b*?"
      ]
    },
    {
      "cell_type": "code",
      "execution_count": 21,
      "metadata": {
        "id": "9Jx0GzTIqArP"
      },
      "outputs": [
        {
          "name": "stdout",
          "output_type": "stream",
          "text": [
            "[2.         0.28571429 1.5       ]\n"
          ]
        }
      ],
      "source": [
        "print(array1 / array2)"
      ]
    },
    {
      "cell_type": "markdown",
      "metadata": {
        "id": "I3FhrIORjZsA"
      },
      "source": [
        "## **Part 2**"
      ]
    },
    {
      "cell_type": "markdown",
      "metadata": {
        "id": "JDa9MTb2wXPi"
      },
      "source": [
        "##### NumPy Array Indexing"
      ]
    },
    {
      "cell_type": "markdown",
      "metadata": {
        "id": "M4rwQgDqrLoo"
      },
      "source": [
        "\n",
        "Given the following matrix:\n",
        "\n",
        "        [[10, 20, 30],\n",
        "        [40, 50, 60],\n",
        "        [70, 80, 90]]\n",
        "\n",
        " 1. Recreate the matrix"
      ]
    },
    {
      "cell_type": "code",
      "execution_count": 45,
      "metadata": {
        "id": "Ra4n8YBQr2RZ"
      },
      "outputs": [
        {
          "name": "stdout",
          "output_type": "stream",
          "text": [
            "[[10 20 30]\n",
            " [40 50 60]\n",
            " [70 80 90]]\n"
          ]
        }
      ],
      "source": [
        "arr = np.array([[10,20,30], [40,50,60], [70,80,90]])\n",
        "print(arr)"
      ]
    },
    {
      "cell_type": "markdown",
      "metadata": {
        "id": "br-ZYkK3uo24"
      },
      "source": [
        "1. Write code to extract the element 50."
      ]
    },
    {
      "cell_type": "code",
      "execution_count": 27,
      "metadata": {
        "id": "kI7jzTiYrTep"
      },
      "outputs": [
        {
          "name": "stdout",
          "output_type": "stream",
          "text": [
            "50\n"
          ]
        }
      ],
      "source": [
        "print(arr[1, 1])"
      ]
    },
    {
      "cell_type": "markdown",
      "metadata": {
        "id": "H1OsD655sEX6"
      },
      "source": [
        "2. **Extract a Row**\\\n",
        "\\\n",
        "Using the same array arr, extract the second row as a separate NumPy array."
      ]
    },
    {
      "cell_type": "code",
      "execution_count": 29,
      "metadata": {
        "id": "jf-K5No5sRob"
      },
      "outputs": [
        {
          "name": "stdout",
          "output_type": "stream",
          "text": [
            "[[40 50 60]]\n"
          ]
        }
      ],
      "source": [
        "arr2 =  arr[1:2]\n",
        "print(arr2)"
      ]
    },
    {
      "cell_type": "markdown",
      "metadata": {
        "id": "qk1-NvWjsVC3"
      },
      "source": [
        "3.  **Extract a Column**\\\n",
        "\\\n",
        "Using arr, extract the third column as a separate NumPy array."
      ]
    },
    {
      "cell_type": "code",
      "execution_count": 52,
      "metadata": {
        "id": "d1s1c5q9sgID"
      },
      "outputs": [
        {
          "name": "stdout",
          "output_type": "stream",
          "text": [
            "[30 60 90]\n"
          ]
        }
      ],
      "source": [
        "print(arr[0:3, 2])"
      ]
    },
    {
      "cell_type": "markdown",
      "metadata": {
        "id": "DIe9pf8nskUZ"
      },
      "source": [
        "4. **Extract a Submatrix**\\\n",
        "\\\n",
        "Extract the following 2×2 submatrix from arr:\\\n",
        "\n",
        "  [[50 60]\\\n",
        " [80 90]]"
      ]
    },
    {
      "cell_type": "code",
      "execution_count": 54,
      "metadata": {
        "id": "37dC5sA3ssZV"
      },
      "outputs": [
        {
          "name": "stdout",
          "output_type": "stream",
          "text": [
            "[[50 60]\n",
            " [80 90]]\n"
          ]
        }
      ],
      "source": [
        "arr3 = np.array(arr[1:3, 1:3]) \n",
        "print(arr3)"
      ]
    },
    {
      "cell_type": "markdown",
      "metadata": {
        "id": "ABs-32sKwOcg"
      },
      "source": [
        "##### NumPy Array Slicing"
      ]
    },
    {
      "cell_type": "markdown",
      "metadata": {
        "id": "T7kcCxr9uGAO"
      },
      "source": [
        "Given the following matrix:\n",
        "\n",
        "                [ 1,  2,  3,  4],\n",
        "                [ 5,  6,  7,  8],\n",
        "                [ 9, 10, 11, 12]]\n",
        "\n",
        "1. Recreate the matrix"
      ]
    },
    {
      "cell_type": "code",
      "execution_count": 58,
      "metadata": {
        "id": "CvzBw2FpwasA"
      },
      "outputs": [
        {
          "name": "stdout",
          "output_type": "stream",
          "text": [
            "[[ 1  2  3  4]\n",
            " [ 5  6  7  8]\n",
            " [ 9 10 11 12]]\n"
          ]
        }
      ],
      "source": [
        "arr = np.array([[1,2,3,4], [5,6,7,8], [9,10,11,12]])\n",
        "print(arr)"
      ]
    },
    {
      "cell_type": "markdown",
      "metadata": {
        "id": "YaaIsRTVwlof"
      },
      "source": [
        "2. Write code to extract the following 2×2 subarray:\n",
        "\n",
        "        [[ 6  7]\n",
        "        [10 11]]"
      ]
    },
    {
      "cell_type": "code",
      "execution_count": 59,
      "metadata": {
        "id": "PpyFr5wYwuLN"
      },
      "outputs": [
        {
          "name": "stdout",
          "output_type": "stream",
          "text": [
            "[[ 6  7]\n",
            " [10 11]]\n"
          ]
        }
      ],
      "source": [
        "arr1 = np.array(arr[1:3, 1:3])\n",
        "print(arr1)"
      ]
    },
    {
      "cell_type": "markdown",
      "metadata": {
        "id": "poinisgbw02m"
      },
      "source": [
        "3. Using the same matrix, write code to extract every other element from the first row (expected output: [1, 3])."
      ]
    },
    {
      "cell_type": "code",
      "execution_count": 62,
      "metadata": {
        "id": "9UyP9S3Ww-wf"
      },
      "outputs": [
        {
          "name": "stdout",
          "output_type": "stream",
          "text": [
            "[[1 3]]\n"
          ]
        }
      ],
      "source": [
        "arr2 = np.array(arr[0:1, ::2])\n",
        "print(arr2)"
      ]
    },
    {
      "cell_type": "markdown",
      "metadata": {
        "id": "0it7IxPqxTq3"
      },
      "source": [
        "4. Write code to reverse the order of rows in the matrix"
      ]
    },
    {
      "cell_type": "code",
      "execution_count": 70,
      "metadata": {
        "id": "-tqPKhrmxWP7"
      },
      "outputs": [
        {
          "name": "stdout",
          "output_type": "stream",
          "text": [
            "[[ 9 10 11 12]\n",
            " [ 5  6  7  8]\n",
            " [ 1  2  3  4]]\n"
          ]
        }
      ],
      "source": [
        "reversed_row_matrix = arr[::-1]\n",
        "print(reversed_row_matrix)"
      ]
    },
    {
      "cell_type": "markdown",
      "metadata": {
        "id": "C8EWGps7xfYl"
      },
      "source": [
        "5. Write code to extract the last two columns of the matrix."
      ]
    },
    {
      "cell_type": "code",
      "execution_count": 72,
      "metadata": {
        "id": "F7sJw1N1xiKC"
      },
      "outputs": [
        {
          "name": "stdout",
          "output_type": "stream",
          "text": [
            "[[ 3  4]\n",
            " [ 7  8]\n",
            " [11 12]]\n"
          ]
        }
      ],
      "source": [
        "last_two_coloumns = arr[:, 2:]\n",
        "print(last_two_coloumns)"
      ]
    },
    {
      "cell_type": "markdown",
      "metadata": {
        "id": "_8sVIp1q2MYw"
      },
      "source": [
        "##### NumPy Array Joins\n",
        "\n",
        "1. Given the following arrays:\n",
        "\n",
        "        arr1 = ([11, 7, 33])\\\n",
        "        arr2 = ([44, 5, 18])\n",
        "\n",
        "1.1 Recreate the arrays"
      ]
    },
    {
      "cell_type": "code",
      "execution_count": 73,
      "metadata": {
        "id": "-1H2IYDs2hMx"
      },
      "outputs": [
        {
          "name": "stdout",
          "output_type": "stream",
          "text": [
            "[11  7 33] [44  5 18]\n"
          ]
        }
      ],
      "source": [
        "join_arr1 = np.array([11,7,33])\n",
        "join_arr2 = np.array([44,5,18])\n",
        "print(join_arr1, join_arr2)"
      ]
    },
    {
      "cell_type": "markdown",
      "metadata": {
        "id": "jJ-OxwEZ2ysr"
      },
      "source": [
        "2. Write code to join arr1 and arr2 into a single 1D array."
      ]
    },
    {
      "cell_type": "code",
      "execution_count": 74,
      "metadata": {
        "id": "fyKL42Yv2ewQ"
      },
      "outputs": [
        {
          "name": "stdout",
          "output_type": "stream",
          "text": [
            "[11  7 33 44  5 18]\n"
          ]
        }
      ],
      "source": [
        "single1D_arr = np.concatenate((join_arr1, join_arr2))\n",
        "print(single1D_arr)"
      ]
    },
    {
      "cell_type": "markdown",
      "metadata": {
        "id": "1qiYH-0v25Z2"
      },
      "source": [
        "3. Using arr1 and arr2 from question 1, write code to stack them vertically into a 2D array."
      ]
    },
    {
      "cell_type": "code",
      "execution_count": 75,
      "metadata": {
        "id": "MgR89wkS2_Nw"
      },
      "outputs": [
        {
          "name": "stdout",
          "output_type": "stream",
          "text": [
            "[[11 44]\n",
            " [ 7  5]\n",
            " [33 18]]\n"
          ]
        }
      ],
      "source": [
        "stacked_arr = np.stack((join_arr1, join_arr2), axis=1)\n",
        "print(stacked_arr)"
      ]
    },
    {
      "cell_type": "markdown",
      "metadata": {
        "id": "mLanHC623JpJ"
      },
      "source": [
        "4. Given the 2D arrays:\n",
        "\n",
        "        arr1 = ([[1, 2],\n",
        "               [3, 4]])\n",
        "\n",
        "        arr2 = ([[5, 6],\n",
        "               [7, 8]])\n",
        "\n",
        "4.1 Recreate the arrays"
      ]
    },
    {
      "cell_type": "code",
      "execution_count": 77,
      "metadata": {
        "id": "FDGnOATJ3JE4"
      },
      "outputs": [
        {
          "name": "stdout",
          "output_type": "stream",
          "text": [
            "[[1, 2], [3, 4]]\n",
            "[[5, 6], [7, 8]]\n"
          ]
        }
      ],
      "source": [
        "join2D_arr1 = ([[1,2],\n",
        "               [3,4]])\n",
        "join2D_arr2 = ([[5,6],\n",
        "                [7,8]])\n",
        "print(join2D_arr1)\n",
        "print(join2D_arr2)"
      ]
    },
    {
      "cell_type": "markdown",
      "metadata": {
        "id": "RyJFIfpo3wiA"
      },
      "source": [
        "5. Write code to join them horizontally (column-wise)."
      ]
    },
    {
      "cell_type": "code",
      "execution_count": 78,
      "metadata": {
        "id": "0eHEY4N63zgT"
      },
      "outputs": [
        {
          "name": "stdout",
          "output_type": "stream",
          "text": [
            "[[1 2 5 6]\n",
            " [3 4 7 8]]\n"
          ]
        }
      ],
      "source": [
        "hstack = np.hstack((join2D_arr1, join2D_arr2))\n",
        "print(hstack)"
      ]
    },
    {
      "cell_type": "markdown",
      "metadata": {
        "id": "encqt9P74ZSv"
      },
      "source": [
        "6. Using arr1 and arr2 from question 4, write code to join them vertically (row-wise).\n"
      ]
    },
    {
      "cell_type": "code",
      "execution_count": 80,
      "metadata": {
        "id": "o-UjS1Kn4rS7"
      },
      "outputs": [
        {
          "name": "stdout",
          "output_type": "stream",
          "text": [
            "[[1 2]\n",
            " [3 4]\n",
            " [5 6]\n",
            " [7 8]]\n"
          ]
        }
      ],
      "source": [
        "vstack = np.vstack((join2D_arr1, join2D_arr2))\n",
        "print(vstack)"
      ]
    },
    {
      "cell_type": "markdown",
      "metadata": {
        "id": "2l2umcfvjlXq"
      },
      "source": [
        "## **Part 3**"
      ]
    },
    {
      "cell_type": "markdown",
      "metadata": {
        "id": "-rs5StZQlvYg"
      },
      "source": [
        "### Task 1: Array Creation"
      ]
    },
    {
      "cell_type": "markdown",
      "metadata": {
        "id": "PKyTiCLulztg"
      },
      "source": [
        "Create the following arrays:\n",
        "\n",
        "- A 1D array of integers from 10 to 28, with a step of 2.\n",
        "- A 2D array with shape (4, 4) containing random integers between 1 and 50.\n",
        "- A 3D array of shape (2, 3, 4) filled with ones.\n",
        "\n"
      ]
    },
    {
      "cell_type": "code",
      "execution_count": 85,
      "metadata": {
        "collapsed": true,
        "id": "GRWUhpV46cR4"
      },
      "outputs": [
        {
          "name": "stdout",
          "output_type": "stream",
          "text": [
            "[10 12 14 16 18 20 22 24 26 28]\n",
            "[[18  6 20 38]\n",
            " [12 26 46 20]\n",
            " [10 17  9 12]\n",
            " [21 35 29 19]]\n",
            "[[[1. 1. 1. 1.]\n",
            "  [1. 1. 1. 1.]\n",
            "  [1. 1. 1. 1.]]\n",
            "\n",
            " [[1. 1. 1. 1.]\n",
            "  [1. 1. 1. 1.]\n",
            "  [1. 1. 1. 1.]]]\n"
          ]
        }
      ],
      "source": [
        "arrange_1D = np.arange(10,29,2)\n",
        "print(arrange_1D)\n",
        "\n",
        "rand_2D = random.randint(50, size=(4,4))\n",
        "print(rand_2D)\n",
        "\n",
        "ones_3D = np.ones((2,3,4))\n",
        "print(ones_3D)\n",
        "\n"
      ]
    },
    {
      "cell_type": "markdown",
      "metadata": {
        "id": "yZPELZSx7ggA"
      },
      "source": [
        "### Task 2: Array Transformations\n",
        "Perform the following operations:\n",
        "- Reshape the 1D array to a 2D array with 2 rows.\n",
        "- Extract the last two rows of the 2D array (From Task 1)\n",
        "- Replace all even numbers in the 2D array with -1. (From Task 1)"
      ]
    },
    {
      "cell_type": "code",
      "execution_count": 94,
      "metadata": {
        "id": "5EJrW4nw7sIE"
      },
      "outputs": [
        {
          "name": "stdout",
          "output_type": "stream",
          "text": [
            "[[10 12 14 16 18]\n",
            " [20 22 24 26 28]]\n",
            "[[-1 17  9 -1]\n",
            " [21 35 29 19]]\n",
            "-1\n"
          ]
        }
      ],
      "source": [
        "reshape_1D = arrange_1D.reshape(2, -1)\n",
        "print(reshape_1D)\n",
        "\n",
        "extract_2D = rand_2D[2:4, ::]  \n",
        "print(extract_2D)\n",
        "\n",
        "replace_2D = rand_2D[rand_2D % 2 == 0] = -1\n",
        "print(replace_2D)"
      ]
    },
    {
      "cell_type": "markdown",
      "metadata": {
        "id": "ZkDoNNBjn7nP"
      },
      "source": [
        "### Task 3: Statistical Operations"
      ]
    },
    {
      "cell_type": "markdown",
      "metadata": {
        "id": "87sRNKp0n7nP"
      },
      "source": [
        "Using the 2D array from **Task 1**, compute the following:\n",
        "\n",
        "- The mean, median, and standard deviation of the array. (From Task 1)\n",
        "- The sum of all elements along each row. (From Task 1)\n",
        "- The maximum value and its index in the entire array. (From Task 1)\n"
      ]
    },
    {
      "cell_type": "code",
      "execution_count": 99,
      "metadata": {
        "id": "TEoMfRV68VlZ"
      },
      "outputs": [
        {
          "name": "stdout",
          "output_type": "stream",
          "text": [
            "Mean:  7.5\n",
            "Median:  -1.0\n",
            "Standard Deviation:  12.114041439585717\n"
          ]
        }
      ],
      "source": [
        "\n",
        "mean = np.mean(rand_2D)\n",
        "median = np.median(rand_2D)\n",
        "std = np.std(rand_2D)\n",
        "\n",
        "print(\"Mean: \",mean)\n",
        "print(\"Median: \",median)\n",
        "print(\"Standard Deviation: \",std)\n"
      ]
    },
    {
      "cell_type": "markdown",
      "metadata": {
        "id": "T_X0kP3I9eWi"
      },
      "source": [
        "###  Task 4: Advanced Analysis on Large Arrays"
      ]
    },
    {
      "cell_type": "markdown",
      "metadata": {
        "id": "B6uTdro89kE7"
      },
      "source": [
        "- Create a (10, 10) array containing random floating-point numbers between 0 and 1.\n",
        "- Find the minimum value along each column.\n",
        "- Find the indices of the top 5 largest values in the entire array."
      ]
    },
    {
      "cell_type": "code",
      "execution_count": 107,
      "metadata": {
        "id": "UwJw1MIn9ovK"
      },
      "outputs": [
        {
          "name": "stdout",
          "output_type": "stream",
          "text": [
            "[[0.92506532 0.75927022 0.58154664 0.1156974  0.2870989  0.990483\n",
            "  0.32312904 0.40315752 0.79094889 0.84966707]\n",
            " [0.75695034 0.12674119 0.82785895 0.67760033 0.72974998 0.95219998\n",
            "  0.23715135 0.27811618 0.73506839 0.33045258]\n",
            " [0.98914862 0.96684691 0.38184141 0.57048581 0.98572548 0.36172727\n",
            "  0.4312724  0.5047739  0.54240783 0.99901306]\n",
            " [0.02575209 0.6665283  0.80931757 0.23010061 0.65537717 0.75582797\n",
            "  0.27701809 0.85385298 0.59818556 0.88448541]\n",
            " [0.42030964 0.98563929 0.36912264 0.16169076 0.99895322 0.09040678\n",
            "  0.06485402 0.12922743 0.13331106 0.66287871]\n",
            " [0.22699855 0.48493752 0.36446175 0.27671649 0.80923948 0.7960907\n",
            "  0.61763074 0.51699505 0.09768913 0.74093962]\n",
            " [0.09237186 0.08333075 0.9480523  0.54708864 0.80545077 0.63164448\n",
            "  0.32187511 0.5865743  0.75646344 0.56731589]\n",
            " [0.88815429 0.87058206 0.42032587 0.23032026 0.41002804 0.22437183\n",
            "  0.79897741 0.82103639 0.78520753 0.44454416]\n",
            " [0.14307324 0.89840999 0.12894538 0.33641271 0.89241243 0.9398575\n",
            "  0.77834769 0.25032288 0.12394709 0.32975922]\n",
            " [0.8092239  0.20130042 0.09294477 0.05276156 0.30618943 0.35955139\n",
            "  0.71421245 0.34127883 0.86076529 0.2484797 ]]\n"
          ]
        }
      ],
      "source": [
        "arr_10x10 = random.rand(10,10)\n",
        "print(arr_10x10)\n",
        "\n",
        "min_values = np.min(arr_10x10, axis=0)\n",
        "\n",
        "print(\"\\nMinimum values along each column:\")\n",
        "print(min_values)\n"
      ]
    }
  ],
  "metadata": {
    "colab": {
      "collapsed_sections": [
        "JDa9MTb2wXPi",
        "ABs-32sKwOcg"
      ],
      "provenance": []
    },
    "kernelspec": {
      "display_name": "Python 3",
      "name": "python3"
    },
    "language_info": {
      "codemirror_mode": {
        "name": "ipython",
        "version": 3
      },
      "file_extension": ".py",
      "mimetype": "text/x-python",
      "name": "python",
      "nbconvert_exporter": "python",
      "pygments_lexer": "ipython3",
      "version": "3.10.0"
    }
  },
  "nbformat": 4,
  "nbformat_minor": 0
}
